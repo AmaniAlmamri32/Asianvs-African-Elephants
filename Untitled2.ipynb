{
  "nbformat": 4,
  "nbformat_minor": 0,
  "metadata": {
    "colab": {
      "provenance": [],
      "authorship_tag": "ABX9TyOPH/P8Q01nyeW5sIryptEd",
      "include_colab_link": true
    },
    "kernelspec": {
      "name": "python3",
      "display_name": "Python 3"
    },
    "language_info": {
      "name": "python"
    }
  },
  "cells": [
    {
      "cell_type": "markdown",
      "metadata": {
        "id": "view-in-github",
        "colab_type": "text"
      },
      "source": [
        "<a href=\"https://colab.research.google.com/github/AmaniAlmamri32/Asianvs-African-Elephants/blob/main/Untitled2.ipynb\" target=\"_parent\"><img src=\"https://colab.research.google.com/assets/colab-badge.svg\" alt=\"Open In Colab\"/></a>"
      ]
    },
    {
      "cell_type": "code",
      "execution_count": 34,
      "metadata": {
        "colab": {
          "base_uri": "https://localhost:8080/"
        },
        "id": "qp0igWx_45nK",
        "outputId": "87be9ae3-3f48-4bb3-cabd-04fa606d71e1"
      },
      "outputs": [
        {
          "output_type": "stream",
          "name": "stdout",
          "text": [
            "Mounted at /content/drive\n"
          ]
        }
      ],
      "source": [
        "from google.colab import drive\n",
        "drive.mount('/content/drive', force_remount=True)"
      ]
    },
    {
      "cell_type": "code",
      "source": [
        "train_dir = '/content/drive/MyDrive/AMANI55/archive/dataset/test'\n",
        "test_dir = '/content/drive/MyDrive/AMANI55/archive/dataset/train'"
      ],
      "metadata": {
        "id": "dRl8DZpg5FWL"
      },
      "execution_count": 8,
      "outputs": []
    },
    {
      "cell_type": "code",
      "source": [
        "import os\n",
        "print(len(os.listdir('/content/drive/MyDrive/AMANI55/archive/dataset/test/African')))\n",
        "print(len(os.listdir('/content/drive/MyDrive/AMANI55/archive/dataset/test/Asian')))\n",
        "print(len(os.listdir('/content/drive/MyDrive/AMANI55/archive/dataset/train/African')))\n",
        "print(len(os.listdir('/content/drive/MyDrive/AMANI55/archive/dataset/train/Asian')))"
      ],
      "metadata": {
        "colab": {
          "base_uri": "https://localhost:8080/"
        },
        "id": "jzFEjyIb5L5s",
        "outputId": "c9cac809-f117-4aa1-cd55-b24faf17cfd5"
      },
      "execution_count": 4,
      "outputs": [
        {
          "output_type": "stream",
          "name": "stdout",
          "text": [
            "97\n",
            "91\n",
            "420\n",
            "420\n"
          ]
        }
      ]
    },
    {
      "cell_type": "code",
      "source": [
        "import tensorflow as tf\n",
        "from tensorflow.keras.preprocessing.image import ImageDataGenerator\n",
        "\n",
        "train_datagen = ImageDataGenerator(\n",
        "    rescale=1./255,\n",
        "    validation_split=0.2\n",
        ")\n",
        "\n",
        "\n",
        "train_data = train_datagen.flow_from_directory(\n",
        "    train_dir,\n",
        "    target_size=(256,256),\n",
        "    batch_size=32,\n",
        "    class_mode='binary',\n",
        "    subset='training'\n",
        ")\n",
        "\n",
        "\n",
        "validation_datagen = ImageDataGenerator(\n",
        "    rescale=1./255,\n",
        "    validation_split=0.2\n",
        ")\n",
        "\n",
        "\n",
        "validation_data = validation_datagen.flow_from_directory(\n",
        "    train_dir,\n",
        "    target_size=(256,256),\n",
        "    batch_size=32,\n",
        "    class_mode='binary',\n",
        "    subset='validation'\n",
        ")"
      ],
      "metadata": {
        "colab": {
          "base_uri": "https://localhost:8080/"
        },
        "id": "TE04AiK75bfd",
        "outputId": "0214cc83-8b7f-4a5b-a6e3-db5baa5665c6"
      },
      "execution_count": 14,
      "outputs": [
        {
          "output_type": "stream",
          "name": "stdout",
          "text": [
            "Found 151 images belonging to 2 classes.\n",
            "Found 37 images belonging to 2 classes.\n"
          ]
        }
      ]
    },
    {
      "cell_type": "code",
      "source": [
        "from tensorflow import keras\n",
        "from keras import Sequential\n",
        "from keras.layers import Dense,Conv2D,MaxPooling2D,Flatten,BatchNormalization,UpSampling2D, Dropout"
      ],
      "metadata": {
        "id": "tnR6RiAD7ED6"
      },
      "execution_count": 10,
      "outputs": []
    },
    {
      "cell_type": "code",
      "source": [
        "model = Sequential()\n",
        "\n",
        "model.add(Conv2D(32,kernel_size=(3,3),padding='valid',activation='relu',input_shape=(256,256,3)))  # 32 filters\n",
        "\n",
        "model.add(MaxPooling2D(pool_size=(2,2),strides=2,padding='valid'))\n",
        "\n",
        "model.add(Conv2D(64,kernel_size=(3,3),padding='valid',activation='relu'))\n",
        "model.add(MaxPooling2D(pool_size=(2,2),strides=2,padding='valid'))\n",
        "\n",
        "model.add(Conv2D(128,kernel_size=(3,3),padding='valid',activation='relu'))\n",
        "\n",
        "model.add(MaxPooling2D(pool_size=(2,2),strides=2,padding='valid'))\n",
        "\n",
        "model.add(Flatten())\n",
        "\n",
        "model.add(Dense(128,activation='relu'))\n",
        "\n",
        "model.add(Dense(64,activation='relu'))\n",
        "\n",
        "model.add(Dense(1,activation='sigmoid'))"
      ],
      "metadata": {
        "colab": {
          "base_uri": "https://localhost:8080/"
        },
        "id": "-Gvj-XEq7JGd",
        "outputId": "f69ddec7-1a68-4368-cf4c-89d29500289e"
      },
      "execution_count": 11,
      "outputs": [
        {
          "output_type": "stream",
          "name": "stderr",
          "text": [
            "/usr/local/lib/python3.10/dist-packages/keras/src/layers/convolutional/base_conv.py:107: UserWarning: Do not pass an `input_shape`/`input_dim` argument to a layer. When using Sequential models, prefer using an `Input(shape)` object as the first layer in the model instead.\n",
            "  super().__init__(activity_regularizer=activity_regularizer, **kwargs)\n"
          ]
        }
      ]
    },
    {
      "cell_type": "code",
      "source": [
        "from keras.optimizers import Adam\n",
        "model.compile(optimizer=Adam(learning_rate=0.001),loss='binary_crossentropy',metrics=['accuracy'])"
      ],
      "metadata": {
        "id": "tdsp_cD_7fH7"
      },
      "execution_count": 12,
      "outputs": []
    },
    {
      "cell_type": "code",
      "source": [
        "history = model.fit(train_data, epochs=10, validation_data=validation_data)"
      ],
      "metadata": {
        "colab": {
          "base_uri": "https://localhost:8080/"
        },
        "id": "K9EnqcCj7kI-",
        "outputId": "cd900de9-24a1-430b-bed8-89983c06128c"
      },
      "execution_count": 13,
      "outputs": [
        {
          "output_type": "stream",
          "name": "stdout",
          "text": [
            "Epoch 1/10\n"
          ]
        },
        {
          "output_type": "stream",
          "name": "stderr",
          "text": [
            "/usr/local/lib/python3.10/dist-packages/keras/src/trainers/data_adapters/py_dataset_adapter.py:122: UserWarning: Your `PyDataset` class should call `super().__init__(**kwargs)` in its constructor. `**kwargs` can include `workers`, `use_multiprocessing`, `max_queue_size`. Do not pass these arguments to `fit()`, as they will be ignored.\n",
            "  self._warn_if_super_not_called()\n"
          ]
        },
        {
          "output_type": "stream",
          "name": "stdout",
          "text": [
            "\u001b[1m5/5\u001b[0m \u001b[32m━━━━━━━━━━━━━━━━━━━━\u001b[0m\u001b[37m\u001b[0m \u001b[1m64s\u001b[0m 7s/step - accuracy: 0.4852 - loss: 1.0662 - val_accuracy: 0.5135 - val_loss: 0.6993\n",
            "Epoch 2/10\n",
            "\u001b[1m5/5\u001b[0m \u001b[32m━━━━━━━━━━━━━━━━━━━━\u001b[0m\u001b[37m\u001b[0m \u001b[1m28s\u001b[0m 5s/step - accuracy: 0.4990 - loss: 0.7037 - val_accuracy: 0.5135 - val_loss: 0.7047\n",
            "Epoch 3/10\n",
            "\u001b[1m5/5\u001b[0m \u001b[32m━━━━━━━━━━━━━━━━━━━━\u001b[0m\u001b[37m\u001b[0m \u001b[1m40s\u001b[0m 5s/step - accuracy: 0.5254 - loss: 0.6900 - val_accuracy: 0.6486 - val_loss: 0.6370\n",
            "Epoch 4/10\n",
            "\u001b[1m5/5\u001b[0m \u001b[32m━━━━━━━━━━━━━━━━━━━━\u001b[0m\u001b[37m\u001b[0m \u001b[1m25s\u001b[0m 5s/step - accuracy: 0.7372 - loss: 0.5891 - val_accuracy: 0.6757 - val_loss: 0.5699\n",
            "Epoch 5/10\n",
            "\u001b[1m5/5\u001b[0m \u001b[32m━━━━━━━━━━━━━━━━━━━━\u001b[0m\u001b[37m\u001b[0m \u001b[1m42s\u001b[0m 5s/step - accuracy: 0.7406 - loss: 0.5247 - val_accuracy: 0.6486 - val_loss: 0.6043\n",
            "Epoch 6/10\n",
            "\u001b[1m5/5\u001b[0m \u001b[32m━━━━━━━━━━━━━━━━━━━━\u001b[0m\u001b[37m\u001b[0m \u001b[1m26s\u001b[0m 5s/step - accuracy: 0.7923 - loss: 0.4707 - val_accuracy: 0.7297 - val_loss: 0.5376\n",
            "Epoch 7/10\n",
            "\u001b[1m5/5\u001b[0m \u001b[32m━━━━━━━━━━━━━━━━━━━━\u001b[0m\u001b[37m\u001b[0m \u001b[1m44s\u001b[0m 5s/step - accuracy: 0.8567 - loss: 0.3908 - val_accuracy: 0.6486 - val_loss: 0.5548\n",
            "Epoch 8/10\n",
            "\u001b[1m5/5\u001b[0m \u001b[32m━━━━━━━━━━━━━━━━━━━━\u001b[0m\u001b[37m\u001b[0m \u001b[1m26s\u001b[0m 5s/step - accuracy: 0.8160 - loss: 0.3820 - val_accuracy: 0.7568 - val_loss: 0.5838\n",
            "Epoch 9/10\n",
            "\u001b[1m5/5\u001b[0m \u001b[32m━━━━━━━━━━━━━━━━━━━━\u001b[0m\u001b[37m\u001b[0m \u001b[1m25s\u001b[0m 5s/step - accuracy: 0.9389 - loss: 0.2778 - val_accuracy: 0.6216 - val_loss: 0.7018\n",
            "Epoch 10/10\n",
            "\u001b[1m5/5\u001b[0m \u001b[32m━━━━━━━━━━━━━━━━━━━━\u001b[0m\u001b[37m\u001b[0m \u001b[1m41s\u001b[0m 5s/step - accuracy: 0.9559 - loss: 0.1648 - val_accuracy: 0.6486 - val_loss: 0.9351\n"
          ]
        }
      ]
    },
    {
      "cell_type": "code",
      "source": [
        "import matplotlib.pyplot as plt\n",
        "\n",
        "plt.plot(history.history['accuracy'],color='red',label='train')\n",
        "plt.plot(history.history['val_accuracy'],color='blue',label='validation')\n",
        "plt.legend()\n",
        "plt.show()"
      ],
      "metadata": {
        "colab": {
          "base_uri": "https://localhost:8080/",
          "height": 430
        },
        "id": "pkDvvpus7oAU",
        "outputId": "43f49e7e-a7d2-4a73-dffc-039375b79fbb"
      },
      "execution_count": 16,
      "outputs": [
        {
          "output_type": "display_data",
          "data": {
            "text/plain": [
              "<Figure size 640x480 with 1 Axes>"
            ],
            "image/png": "[encoded data removed]"
          },
          "metadata": {}
        }
      ]
    },
    {
      "cell_type": "code",
      "source": [
        "plt.plot(history.history['loss'],color='red',label='train')\n",
        "plt.plot(history.history['val_loss'],color='blue',label='validation')\n",
        "plt.legend()\n",
        "plt.show()"
      ],
      "metadata": {
        "colab": {
          "base_uri": "https://localhost:8080/",
          "height": 430
        },
        "id": "OuWNyCkX7sxx",
        "outputId": "ecd97be1-8121-47b6-ff8a-dca4678a2d97"
      },
      "execution_count": 17,
      "outputs": [
        {
          "output_type": "display_data",
          "data": {
            "text/plain": [
              "<Figure size 640x480 with 1 Axes>"
            ],
            "image/png": "[encoded data removed]"
          },
          "metadata": {}
        }
      ]
    },
    {
      "cell_type": "code",
      "source": [
        "test_datagen = ImageDataGenerator(rescale=1./255)\n",
        "test_data = test_datagen.flow_from_directory(\n",
        "    test_dir,\n",
        "    target_size=(256,256),\n",
        "    batch_size=32,\n",
        "    class_mode='binary'\n",
        ")"
      ],
      "metadata": {
        "colab": {
          "base_uri": "https://localhost:8080/"
        },
        "id": "jOyMDxua708X",
        "outputId": "0d28a854-eeef-422c-d607-805b30175733"
      },
      "execution_count": 18,
      "outputs": [
        {
          "output_type": "stream",
          "name": "stdout",
          "text": [
            "Found 840 images belonging to 2 classes.\n"
          ]
        }
      ]
    },
    {
      "cell_type": "code",
      "source": [
        "predictions = model.predict(test_data)\n",
        "print(predictions)"
      ],
      "metadata": {
        "colab": {
          "base_uri": "https://localhost:8080/"
        },
        "id": "sgJMjkg57116",
        "outputId": "8c822ab0-795a-47e3-de59-ebb12b4b5fa2"
      },
      "execution_count": 21,
      "outputs": [
        {
          "output_type": "stream",
          "name": "stdout",
          "text": [
            "\u001b[1m27/27\u001b[0m \u001b[32m━━━━━━━━━━━━━━━━━━━━\u001b[0m\u001b[37m\u001b[0m \u001b[1m52s\u001b[0m 2s/step\n",
            "[[7.03648031e-01]\n",
            " [9.39767540e-01]\n",
            " [3.24534923e-01]\n",
            " [1.34960925e-02]\n",
            " [3.79798293e-01]\n",
            " [3.07947338e-01]\n",
            " [8.27149272e-01]\n",
            " [5.44444680e-01]\n",
            " [3.60455215e-01]\n",
            " [3.18855643e-01]\n",
            " [7.96395600e-01]\n",
            " [2.03565378e-02]\n",
            " [8.92897725e-01]\n",
            " [2.02836484e-01]\n",
            " [1.00767538e-01]\n",
            " [1.99659705e-01]\n",
            " [1.95797475e-04]\n",
            " [3.44542086e-01]\n",
            " [9.53543961e-01]\n",
            " [1.38727427e-01]\n",
            " [9.98984337e-01]\n",
            " [6.55775070e-02]\n",
            " [1.64826959e-01]\n",
            " [4.33590919e-01]\n",
            " [5.22331417e-01]\n",
            " [7.44289719e-03]\n",
            " [4.26453054e-01]\n",
            " [3.78612168e-02]\n",
            " [9.79340851e-01]\n",
            " [9.11796391e-01]\n",
            " [3.71798277e-02]\n",
            " [3.81218165e-01]\n",
            " [3.58318686e-01]\n",
            " [9.27979350e-01]\n",
            " [2.84707416e-02]\n",
            " [6.12179577e-01]\n",
            " [3.32158455e-03]\n",
            " [2.36859899e-02]\n",
            " [7.58386075e-01]\n",
            " [2.49840781e-01]\n",
            " [8.37979257e-01]\n",
            " [2.44952768e-01]\n",
            " [7.94940770e-01]\n",
            " [5.57339415e-02]\n",
            " [6.53517962e-01]\n",
            " [2.64054686e-01]\n",
            " [3.36635262e-01]\n",
            " [9.99819994e-01]\n",
            " [9.93689597e-01]\n",
            " [9.05885458e-01]\n",
            " [9.53006983e-01]\n",
            " [9.75406170e-01]\n",
            " [2.93223768e-01]\n",
            " [9.99143422e-01]\n",
            " [9.99996960e-01]\n",
            " [9.40161169e-01]\n",
            " [4.77093995e-01]\n",
            " [1.64787471e-01]\n",
            " [2.12973624e-01]\n",
            " [9.90864456e-01]\n",
            " [7.70294726e-01]\n",
            " [6.76284015e-01]\n",
            " [9.98541355e-01]\n",
            " [5.17114937e-01]\n",
            " [7.18386710e-01]\n",
            " [7.71497130e-01]\n",
            " [6.56400919e-01]\n",
            " [9.02681708e-01]\n",
            " [1.12935659e-02]\n",
            " [7.72557734e-03]\n",
            " [1.36267543e-01]\n",
            " [8.21866691e-01]\n",
            " [5.30305728e-02]\n",
            " [5.18151999e-01]\n",
            " [5.16057611e-01]\n",
            " [9.99822319e-01]\n",
            " [1.32129416e-01]\n",
            " [8.66017401e-01]\n",
            " [9.34379816e-01]\n",
            " [5.69163203e-01]\n",
            " [9.13152099e-02]\n",
            " [1.63121939e-01]\n",
            " [1.36018069e-02]\n",
            " [8.65924895e-01]\n",
            " [9.50889826e-01]\n",
            " [4.38220024e-01]\n",
            " [9.94925618e-01]\n",
            " [4.92856950e-01]\n",
            " [3.58660966e-01]\n",
            " [9.37693119e-01]\n",
            " [5.67297876e-01]\n",
            " [1.00000000e+00]\n",
            " [8.08623210e-02]\n",
            " [7.02028453e-01]\n",
            " [9.51374233e-01]\n",
            " [7.08107114e-01]\n",
            " [3.89069202e-03]\n",
            " [2.54618019e-01]\n",
            " [6.83787093e-02]\n",
            " [9.94246542e-01]\n",
            " [9.66481030e-01]\n",
            " [2.34336525e-01]\n",
            " [9.88551438e-01]\n",
            " [3.03279757e-01]\n",
            " [9.89716530e-01]\n",
            " [2.25377217e-01]\n",
            " [7.98398674e-01]\n",
            " [7.36218393e-01]\n",
            " [9.47590638e-03]\n",
            " [8.35195243e-01]\n",
            " [9.69043911e-01]\n",
            " [9.15535688e-01]\n",
            " [1.26391411e-01]\n",
            " [6.67168498e-01]\n",
            " [2.47694060e-01]\n",
            " [9.94953156e-01]\n",
            " [9.92812097e-01]\n",
            " [9.99365032e-01]\n",
            " [9.79489863e-01]\n",
            " [1.52720109e-01]\n",
            " [4.87006754e-01]\n",
            " [9.26975250e-01]\n",
            " [2.14636445e-01]\n",
            " [9.99422252e-01]\n",
            " [9.48328912e-01]\n",
            " [8.50070894e-01]\n",
            " [3.09241593e-01]\n",
            " [5.08830488e-01]\n",
            " [1.77774906e-01]\n",
            " [1.26413837e-01]\n",
            " [2.37804763e-02]\n",
            " [2.82752842e-01]\n",
            " [1.86699852e-01]\n",
            " [6.23963103e-02]\n",
            " [9.87193823e-01]\n",
            " [9.37566042e-01]\n",
            " [1.01345904e-04]\n",
            " [4.80286218e-03]\n",
            " [6.61071464e-02]\n",
            " [3.63158397e-02]\n",
            " [1.34589270e-01]\n",
            " [9.98957694e-01]\n",
            " [1.65478443e-03]\n",
            " [8.06337595e-01]\n",
            " [3.02006096e-01]\n",
            " [1.13970429e-01]\n",
            " [9.60593104e-01]\n",
            " [8.51735234e-01]\n",
            " [9.95722890e-01]\n",
            " [1.18158005e-01]\n",
            " [1.07105941e-01]\n",
            " [5.73925245e-05]\n",
            " [1.67700604e-01]\n",
            " [8.21043730e-01]\n",
            " [1.40839070e-01]\n",
            " [7.59750009e-01]\n",
            " [6.00123525e-01]\n",
            " [6.88653961e-02]\n",
            " [2.90947080e-01]\n",
            " [7.86104679e-01]\n",
            " [9.89440322e-01]\n",
            " [7.95272827e-01]\n",
            " [1.27128866e-02]\n",
            " [2.79907972e-01]\n",
            " [8.10566306e-01]\n",
            " [9.74672973e-01]\n",
            " [2.60393292e-01]\n",
            " [7.51832426e-01]\n",
            " [3.84150714e-01]\n",
            " [8.01485837e-01]\n",
            " [6.93515301e-01]\n",
            " [9.63567913e-01]\n",
            " [8.64561498e-01]\n",
            " [9.99641240e-01]\n",
            " [7.44919330e-02]\n",
            " [9.48554277e-01]\n",
            " [4.12276447e-01]\n",
            " [8.30179974e-02]\n",
            " [6.70660257e-01]\n",
            " [2.25947276e-02]\n",
            " [2.18557268e-01]\n",
            " [9.84595537e-01]\n",
            " [8.52931514e-02]\n",
            " [3.15719813e-01]\n",
            " [1.87540516e-01]\n",
            " [3.47356225e-04]\n",
            " [2.36889906e-02]\n",
            " [6.51220419e-03]\n",
            " [8.73596728e-01]\n",
            " [3.96979749e-01]\n",
            " [8.45794380e-01]\n",
            " [8.10276210e-01]\n",
            " [9.91842449e-01]\n",
            " [8.79846394e-01]\n",
            " [7.17728198e-01]\n",
            " [6.37472689e-01]\n",
            " [6.23963103e-02]\n",
            " [6.81549489e-01]\n",
            " [9.97214437e-01]\n",
            " [3.36431295e-01]\n",
            " [4.30954397e-01]\n",
            " [9.98203516e-01]\n",
            " [1.85481496e-02]\n",
            " [9.93725896e-01]\n",
            " [8.93672705e-02]\n",
            " [4.31138963e-01]\n",
            " [1.28458673e-02]\n",
            " [6.38124883e-01]\n",
            " [9.53833938e-01]\n",
            " [7.64228165e-01]\n",
            " [9.97864425e-01]\n",
            " [1.72285721e-01]\n",
            " [4.79800021e-03]\n",
            " [9.49563742e-01]\n",
            " [9.80690002e-01]\n",
            " [3.10852081e-02]\n",
            " [3.10497824e-02]\n",
            " [9.60461736e-01]\n",
            " [7.59571671e-01]\n",
            " [9.98513758e-01]\n",
            " [7.59127215e-02]\n",
            " [9.85598862e-01]\n",
            " [9.51844037e-01]\n",
            " [2.17198998e-01]\n",
            " [4.84050155e-01]\n",
            " [9.12241876e-01]\n",
            " [6.53734386e-01]\n",
            " [9.88669455e-01]\n",
            " [9.58459973e-01]\n",
            " [7.68129155e-02]\n",
            " [6.95840083e-03]\n",
            " [1.14588715e-01]\n",
            " [9.47630964e-03]\n",
            " [2.25975588e-01]\n",
            " [9.99489248e-01]\n",
            " [8.76428038e-02]\n",
            " [9.71550405e-01]\n",
            " [9.95558918e-01]\n",
            " [3.78860295e-01]\n",
            " [6.24127269e-01]\n",
            " [4.11563478e-02]\n",
            " [8.55167449e-01]\n",
            " [9.90510941e-01]\n",
            " [8.06326866e-01]\n",
            " [1.07672870e-01]\n",
            " [1.31163197e-02]\n",
            " [9.82691288e-01]\n",
            " [9.98282194e-01]\n",
            " [1.00196004e-01]\n",
            " [3.95009309e-01]\n",
            " [3.31421524e-01]\n",
            " [8.28238249e-01]\n",
            " [1.15764268e-01]\n",
            " [3.24418962e-01]\n",
            " [9.85425830e-01]\n",
            " [6.82998180e-01]\n",
            " [8.42260122e-02]\n",
            " [9.54697013e-01]\n",
            " [2.24778205e-02]\n",
            " [3.04525524e-01]\n",
            " [9.16604578e-01]\n",
            " [8.78700912e-01]\n",
            " [7.65592396e-01]\n",
            " [9.33628857e-01]\n",
            " [7.28628188e-02]\n",
            " [3.44438404e-02]\n",
            " [4.35751796e-01]\n",
            " [7.54569054e-01]\n",
            " [1.39687434e-01]\n",
            " [9.79248941e-01]\n",
            " [1.78660303e-01]\n",
            " [4.71949756e-01]\n",
            " [6.77055180e-01]\n",
            " [2.18229964e-01]\n",
            " [8.94141614e-01]\n",
            " [7.10827470e-01]\n",
            " [2.47750357e-02]\n",
            " [1.55556008e-01]\n",
            " [3.78928691e-01]\n",
            " [8.80926102e-02]\n",
            " [9.81945217e-01]\n",
            " [5.03293753e-01]\n",
            " [9.96514678e-01]\n",
            " [6.97085023e-01]\n",
            " [6.36876941e-01]\n",
            " [1.71105087e-01]\n",
            " [6.30100727e-01]\n",
            " [6.98670030e-01]\n",
            " [7.23917484e-01]\n",
            " [9.65072155e-01]\n",
            " [3.91426146e-01]\n",
            " [8.20877194e-01]\n",
            " [4.09101188e-01]\n",
            " [9.95642483e-01]\n",
            " [6.36769056e-01]\n",
            " [9.99997497e-01]\n",
            " [9.99892592e-01]\n",
            " [7.72793651e-01]\n",
            " [6.56400919e-01]\n",
            " [9.97989357e-01]\n",
            " [9.82819438e-01]\n",
            " [5.74732006e-01]\n",
            " [5.64003587e-02]\n",
            " [8.80926102e-02]\n",
            " [4.09528688e-02]\n",
            " [8.00245821e-01]\n",
            " [9.94581461e-01]\n",
            " [3.22909594e-01]\n",
            " [9.99824524e-01]\n",
            " [8.78257453e-01]\n",
            " [1.67903244e-01]\n",
            " [6.54532835e-02]\n",
            " [1.78554077e-02]\n",
            " [6.08494043e-01]\n",
            " [4.43409756e-02]\n",
            " [9.96720195e-01]\n",
            " [8.03448111e-02]\n",
            " [4.28494178e-02]\n",
            " [6.76311016e-01]\n",
            " [2.64604595e-02]\n",
            " [9.99819994e-01]\n",
            " [4.76604477e-02]\n",
            " [7.62105167e-01]\n",
            " [2.92601079e-01]\n",
            " [1.94425717e-01]\n",
            " [9.50211465e-01]\n",
            " [3.87600400e-02]\n",
            " [7.56034136e-01]\n",
            " [9.15645838e-01]\n",
            " [8.17082703e-01]\n",
            " [1.27128866e-02]\n",
            " [3.70933264e-01]\n",
            " [8.97915363e-01]\n",
            " [9.11131859e-01]\n",
            " [3.36263180e-01]\n",
            " [5.50549328e-01]\n",
            " [2.16372937e-01]\n",
            " [9.47305262e-01]\n",
            " [8.59093010e-01]\n",
            " [7.89103568e-01]\n",
            " [2.02083007e-01]\n",
            " [1.05443530e-01]\n",
            " [3.49911153e-01]\n",
            " [6.30226195e-01]\n",
            " [1.86480880e-01]\n",
            " [6.91323221e-01]\n",
            " [9.92375135e-01]\n",
            " [6.39030814e-01]\n",
            " [1.26884177e-01]\n",
            " [3.37224364e-01]\n",
            " [2.17503563e-01]\n",
            " [9.97798681e-01]\n",
            " [1.11652270e-01]\n",
            " [3.03744107e-01]\n",
            " [9.97294545e-01]\n",
            " [2.64311885e-03]\n",
            " [5.34217715e-01]\n",
            " [1.35159567e-01]\n",
            " [3.24504614e-01]\n",
            " [4.84614342e-01]\n",
            " [6.21368825e-01]\n",
            " [2.08301976e-01]\n",
            " [5.78073114e-02]\n",
            " [4.13732916e-01]\n",
            " [1.50426710e-02]\n",
            " [8.99959564e-01]\n",
            " [2.32089192e-01]\n",
            " [9.81114209e-01]\n",
            " [7.75994480e-01]\n",
            " [4.89649147e-01]\n",
            " [3.61516653e-03]\n",
            " [8.66764784e-01]\n",
            " [5.32528479e-03]\n",
            " [4.48362529e-01]\n",
            " [8.69808272e-02]\n",
            " [7.18378974e-03]\n",
            " [6.46681964e-01]\n",
            " [8.33776116e-01]\n",
            " [7.23634958e-02]\n",
            " [6.90730512e-01]\n",
            " [5.86589873e-01]\n",
            " [9.34590042e-01]\n",
            " [8.63225758e-01]\n",
            " [8.51539314e-01]\n",
            " [3.05274755e-01]\n",
            " [2.37664893e-01]\n",
            " [9.84433055e-01]\n",
            " [8.30456495e-01]\n",
            " [1.01031712e-03]\n",
            " [9.99971390e-01]\n",
            " [7.62063563e-01]\n",
            " [9.43186820e-01]\n",
            " [3.90725136e-02]\n",
            " [4.84354645e-01]\n",
            " [9.72047210e-01]\n",
            " [8.15453415e-04]\n",
            " [9.73821998e-01]\n",
            " [7.11194694e-01]\n",
            " [4.31942254e-01]\n",
            " [9.97835457e-01]\n",
            " [7.01992884e-02]\n",
            " [9.70342100e-01]\n",
            " [4.55039442e-01]\n",
            " [1.22399814e-02]\n",
            " [2.39873648e-01]\n",
            " [1.37496116e-02]\n",
            " [9.53283787e-01]\n",
            " [9.76822436e-01]\n",
            " [1.93244070e-01]\n",
            " [2.46263310e-01]\n",
            " [9.99829769e-01]\n",
            " [6.65827990e-01]\n",
            " [9.77628231e-01]\n",
            " [3.41326818e-02]\n",
            " [1.95797285e-04]\n",
            " [1.67138845e-01]\n",
            " [1.96072429e-01]\n",
            " [7.72557734e-03]\n",
            " [9.99977469e-01]\n",
            " [5.38265467e-01]\n",
            " [6.64028645e-01]\n",
            " [1.33561268e-02]\n",
            " [6.59128278e-03]\n",
            " [2.58739352e-01]\n",
            " [6.73280299e-01]\n",
            " [5.96915841e-01]\n",
            " [4.04954910e-01]\n",
            " [9.99999702e-01]\n",
            " [9.60932553e-01]\n",
            " [8.40237558e-01]\n",
            " [9.72985566e-01]\n",
            " [2.22852174e-02]\n",
            " [3.47001374e-01]\n",
            " [7.59789586e-01]\n",
            " [9.74739730e-01]\n",
            " [7.58517861e-01]\n",
            " [7.53780007e-01]\n",
            " [6.37557745e-01]\n",
            " [4.29649532e-01]\n",
            " [1.78059518e-01]\n",
            " [7.60084748e-01]\n",
            " [4.24044669e-01]\n",
            " [9.82383072e-01]\n",
            " [7.37550497e-01]\n",
            " [2.63582391e-04]\n",
            " [3.92626643e-01]\n",
            " [7.27444887e-01]\n",
            " [5.39665520e-01]\n",
            " [8.76728654e-01]\n",
            " [6.93721652e-01]\n",
            " [3.57773125e-01]\n",
            " [5.88795841e-01]\n",
            " [9.17919755e-01]\n",
            " [9.89717782e-01]\n",
            " [9.99992967e-01]\n",
            " [1.69568397e-02]\n",
            " [7.18450639e-04]\n",
            " [9.56293821e-01]\n",
            " [1.04184449e-01]\n",
            " [9.33866501e-01]\n",
            " [7.85010755e-01]\n",
            " [9.71185148e-01]\n",
            " [1.80715725e-01]\n",
            " [9.05660927e-01]\n",
            " [6.64169267e-02]\n",
            " [8.66434753e-01]\n",
            " [9.79619384e-01]\n",
            " [6.59195299e-04]\n",
            " [8.95850956e-01]\n",
            " [8.67009699e-01]\n",
            " [9.99994338e-01]\n",
            " [5.32480001e-01]\n",
            " [9.69711423e-01]\n",
            " [9.06094849e-01]\n",
            " [9.21497107e-01]\n",
            " [9.99995172e-01]\n",
            " [7.82466054e-01]\n",
            " [9.91544068e-01]\n",
            " [3.43976021e-02]\n",
            " [1.94003299e-01]\n",
            " [9.99995649e-01]\n",
            " [3.53766978e-01]\n",
            " [9.97708857e-01]\n",
            " [1.90993935e-01]\n",
            " [9.55827475e-01]\n",
            " [8.16347837e-01]\n",
            " [1.43459469e-01]\n",
            " [8.56380820e-01]\n",
            " [2.51519191e-03]\n",
            " [8.38740945e-01]\n",
            " [9.97230232e-01]\n",
            " [5.86832464e-01]\n",
            " [1.11468755e-01]\n",
            " [3.00635230e-02]\n",
            " [3.23794276e-01]\n",
            " [3.94187355e-03]\n",
            " [9.34995294e-01]\n",
            " [9.99993503e-01]\n",
            " [8.57583523e-01]\n",
            " [8.05662572e-02]\n",
            " [9.94363427e-01]\n",
            " [2.52798587e-01]\n",
            " [6.79635704e-02]\n",
            " [6.88169658e-01]\n",
            " [8.90469491e-01]\n",
            " [9.84820843e-01]\n",
            " [3.26966047e-02]\n",
            " [8.38604748e-01]\n",
            " [4.68705535e-01]\n",
            " [9.32196975e-01]\n",
            " [1.01870894e-01]\n",
            " [3.81599724e-01]\n",
            " [9.59490299e-01]\n",
            " [7.75155604e-01]\n",
            " [2.02229246e-02]\n",
            " [8.63325775e-01]\n",
            " [2.54944742e-01]\n",
            " [6.11907840e-01]\n",
            " [9.67211366e-01]\n",
            " [3.57773125e-01]\n",
            " [9.66133475e-01]\n",
            " [5.62980115e-01]\n",
            " [9.95862246e-01]\n",
            " [9.89166141e-01]\n",
            " [9.58283842e-01]\n",
            " [8.00514102e-01]\n",
            " [8.97300661e-01]\n",
            " [9.73110259e-01]\n",
            " [8.20029974e-01]\n",
            " [7.56034136e-01]\n",
            " [9.48381364e-01]\n",
            " [3.72292578e-01]\n",
            " [8.81091952e-01]\n",
            " [8.67427588e-01]\n",
            " [8.06337595e-01]\n",
            " [8.04544210e-01]\n",
            " [2.78622508e-01]\n",
            " [9.97704923e-01]\n",
            " [9.76861894e-01]\n",
            " [4.90220077e-02]\n",
            " [2.46906623e-01]\n",
            " [1.36295080e-01]\n",
            " [6.41544461e-01]\n",
            " [5.29851973e-01]\n",
            " [7.07820237e-01]\n",
            " [2.10117653e-01]\n",
            " [4.23482895e-01]\n",
            " [9.02065694e-01]\n",
            " [9.07307625e-01]\n",
            " [5.58132112e-01]\n",
            " [1.55806541e-01]\n",
            " [4.64256495e-01]\n",
            " [8.98028970e-01]\n",
            " [3.13452572e-01]\n",
            " [1.37270300e-03]\n",
            " [9.95039880e-01]\n",
            " [6.64976835e-01]\n",
            " [9.36247826e-01]\n",
            " [9.72040176e-01]\n",
            " [1.12791002e-01]\n",
            " [3.99496764e-01]\n",
            " [9.66089189e-01]\n",
            " [9.99949098e-01]\n",
            " [3.64797592e-01]\n",
            " [5.86139485e-02]\n",
            " [8.85368958e-02]\n",
            " [9.46629226e-01]\n",
            " [3.76876086e-01]\n",
            " [7.08484724e-02]\n",
            " [3.05899914e-04]\n",
            " [8.18844438e-01]\n",
            " [9.98457134e-01]\n",
            " [2.60181329e-03]\n",
            " [3.19717526e-01]\n",
            " [9.80367184e-01]\n",
            " [1.20577835e-01]\n",
            " [1.39467102e-02]\n",
            " [3.75247657e-01]\n",
            " [9.80474472e-01]\n",
            " [7.66814888e-01]\n",
            " [9.60593104e-01]\n",
            " [1.36295080e-01]\n",
            " [2.53123969e-01]\n",
            " [8.50700438e-01]\n",
            " [9.51725483e-01]\n",
            " [3.51254106e-01]\n",
            " [9.75506186e-01]\n",
            " [4.81503457e-01]\n",
            " [2.28259996e-01]\n",
            " [8.20788860e-01]\n",
            " [3.97834688e-01]\n",
            " [5.86926997e-01]\n",
            " [2.12429181e-01]\n",
            " [5.80537617e-01]\n",
            " [1.66238502e-01]\n",
            " [8.80104527e-02]\n",
            " [8.93377542e-01]\n",
            " [9.69997942e-01]\n",
            " [9.96782660e-01]\n",
            " [3.78860295e-01]\n",
            " [4.31763474e-04]\n",
            " [9.90027189e-01]\n",
            " [1.04609586e-01]\n",
            " [8.88373971e-01]\n",
            " [8.75615716e-01]\n",
            " [2.29095090e-02]\n",
            " [8.87144580e-02]\n",
            " [5.36132336e-01]\n",
            " [2.25413460e-02]\n",
            " [1.85857788e-01]\n",
            " [2.83547994e-02]\n",
            " [2.69508502e-03]\n",
            " [9.96186435e-01]\n",
            " [9.83334064e-01]\n",
            " [8.23231816e-01]\n",
            " [5.37140787e-01]\n",
            " [3.66806895e-01]\n",
            " [2.32101142e-01]\n",
            " [9.02681708e-01]\n",
            " [4.66274330e-03]\n",
            " [6.10058308e-01]\n",
            " [7.17192650e-01]\n",
            " [7.33342826e-01]\n",
            " [1.02048898e-02]\n",
            " [9.89830613e-01]\n",
            " [8.69251370e-01]\n",
            " [4.90142435e-01]\n",
            " [3.31058353e-01]\n",
            " [1.45336047e-01]\n",
            " [4.33220595e-01]\n",
            " [4.66202736e-01]\n",
            " [8.10410306e-02]\n",
            " [9.29084480e-01]\n",
            " [2.70267546e-01]\n",
            " [1.40051201e-01]\n",
            " [8.65248322e-01]\n",
            " [9.59173739e-01]\n",
            " [9.08276498e-01]\n",
            " [9.89691436e-01]\n",
            " [2.25903422e-01]\n",
            " [9.92469788e-01]\n",
            " [4.49296802e-01]\n",
            " [8.02974641e-01]\n",
            " [4.04357770e-03]\n",
            " [4.22471732e-01]\n",
            " [7.40977168e-01]\n",
            " [2.19482616e-01]\n",
            " [9.18235064e-01]\n",
            " [9.46237504e-01]\n",
            " [1.47289351e-01]\n",
            " [9.91819143e-01]\n",
            " [9.76866961e-01]\n",
            " [3.13027918e-01]\n",
            " [6.27775192e-01]\n",
            " [4.13096964e-01]\n",
            " [9.78074849e-01]\n",
            " [8.10566306e-01]\n",
            " [1.07772484e-01]\n",
            " [6.06391132e-01]\n",
            " [7.82369494e-01]\n",
            " [6.43535972e-01]\n",
            " [4.40928400e-01]\n",
            " [5.88149965e-01]\n",
            " [7.21506357e-01]\n",
            " [2.23143190e-01]\n",
            " [7.49948502e-01]\n",
            " [2.24274561e-01]\n",
            " [7.42298245e-01]\n",
            " [3.46279234e-01]\n",
            " [1.55746862e-01]\n",
            " [4.05810168e-03]\n",
            " [4.62122671e-02]\n",
            " [9.19674575e-01]\n",
            " [1.93239097e-02]\n",
            " [9.03777599e-01]\n",
            " [2.99612582e-01]\n",
            " [1.21087283e-01]\n",
            " [6.14467442e-01]\n",
            " [5.65923899e-02]\n",
            " [7.11448967e-01]\n",
            " [4.88439590e-01]\n",
            " [3.83344799e-01]\n",
            " [4.40822467e-02]\n",
            " [1.94745734e-02]\n",
            " [9.46482897e-01]\n",
            " [5.34217715e-01]\n",
            " [9.71036498e-03]\n",
            " [8.13592076e-01]\n",
            " [9.95147586e-01]\n",
            " [3.48373562e-01]\n",
            " [5.07142663e-01]\n",
            " [1.25656649e-01]\n",
            " [9.72450018e-01]\n",
            " [5.92462182e-01]\n",
            " [9.87437606e-01]\n",
            " [9.99501824e-01]\n",
            " [5.66691339e-01]\n",
            " [1.79672271e-01]\n",
            " [9.62916315e-01]\n",
            " [9.89990890e-01]\n",
            " [6.44835830e-01]\n",
            " [1.64941266e-01]\n",
            " [3.71909589e-01]\n",
            " [7.26382673e-01]\n",
            " [8.69559124e-03]\n",
            " [2.64462769e-01]\n",
            " [3.29527585e-03]\n",
            " [5.98385967e-02]\n",
            " [4.42707688e-02]\n",
            " [9.55779493e-01]\n",
            " [2.94216201e-02]\n",
            " [8.42260122e-02]\n",
            " [6.73280299e-01]\n",
            " [7.46523857e-01]\n",
            " [4.77691814e-02]\n",
            " [9.99995768e-01]\n",
            " [9.97101426e-01]\n",
            " [8.46376896e-01]\n",
            " [2.52855450e-01]\n",
            " [4.03037295e-02]\n",
            " [8.48116219e-01]\n",
            " [9.99350786e-01]\n",
            " [5.40624708e-02]\n",
            " [2.17578858e-01]\n",
            " [3.76625806e-02]\n",
            " [6.08494043e-01]\n",
            " [9.46791351e-01]\n",
            " [7.83400893e-01]\n",
            " [3.14532034e-02]\n",
            " [5.36077209e-02]\n",
            " [1.07554644e-01]\n",
            " [4.14217800e-01]\n",
            " [9.23087537e-01]\n",
            " [8.40255797e-01]\n",
            " [7.88870037e-01]\n",
            " [1.95965976e-01]\n",
            " [1.58084854e-01]\n",
            " [5.68738170e-02]\n",
            " [3.44501896e-04]\n",
            " [9.10293341e-01]\n",
            " [2.05179537e-03]\n",
            " [7.62105167e-01]\n",
            " [4.79800021e-03]\n",
            " [2.81744629e-01]\n",
            " [3.78349036e-01]\n",
            " [3.10759038e-01]\n",
            " [6.97476044e-02]\n",
            " [2.21193537e-01]\n",
            " [4.78037953e-01]\n",
            " [8.75468135e-01]\n",
            " [6.36446953e-01]\n",
            " [9.38668847e-01]\n",
            " [9.66034770e-01]\n",
            " [9.85664725e-01]\n",
            " [2.72639424e-01]\n",
            " [6.60568893e-01]\n",
            " [3.30769092e-01]\n",
            " [6.70912163e-03]\n",
            " [1.72677059e-02]\n",
            " [6.57851994e-01]\n",
            " [9.78985846e-01]\n",
            " [9.97319818e-01]\n",
            " [9.18820322e-01]\n",
            " [1.78613625e-02]\n",
            " [9.67211366e-01]\n",
            " [5.97214997e-02]\n",
            " [5.21785080e-01]\n",
            " [9.11473989e-01]\n",
            " [2.23100469e-01]\n",
            " [9.89060998e-01]\n",
            " [3.14380531e-03]\n",
            " [2.03529134e-01]\n",
            " [7.06465006e-01]\n",
            " [6.94274247e-01]\n",
            " [9.99892592e-01]\n",
            " [9.94213641e-01]\n",
            " [5.80630243e-01]\n",
            " [7.64220715e-01]\n",
            " [9.90532756e-01]\n",
            " [1.28458673e-02]\n",
            " [8.54044378e-01]\n",
            " [9.98885870e-01]\n",
            " [9.55367565e-01]\n",
            " [1.90143168e-04]\n",
            " [7.40293682e-01]\n",
            " [5.05157886e-03]\n",
            " [7.66814888e-01]\n",
            " [2.71450698e-01]\n",
            " [2.26746365e-01]\n",
            " [8.09352100e-01]\n",
            " [1.42567605e-01]\n",
            " [9.76673782e-01]\n",
            " [9.07061934e-01]\n",
            " [1.02349348e-01]\n",
            " [9.00499284e-01]\n",
            " [8.74092132e-02]\n",
            " [9.95882154e-01]\n",
            " [9.84458148e-01]\n",
            " [1.30743608e-01]\n",
            " [9.49841559e-01]\n",
            " [1.02990910e-01]\n",
            " [8.80926102e-02]\n",
            " [7.63541996e-01]\n",
            " [9.92603123e-01]\n",
            " [4.79031652e-01]\n",
            " [9.98731196e-01]\n",
            " [8.19724612e-03]\n",
            " [4.14511487e-02]\n",
            " [2.43276760e-01]\n",
            " [9.30877626e-01]\n",
            " [9.32215512e-01]\n",
            " [2.60418624e-01]\n",
            " [8.05865943e-01]\n",
            " [9.60285306e-01]\n",
            " [3.47356225e-04]\n",
            " [9.86873090e-01]\n",
            " [1.53627619e-01]\n",
            " [9.64917094e-02]\n",
            " [7.40308389e-02]\n",
            " [7.44705975e-01]\n",
            " [6.28006279e-01]\n",
            " [9.97893393e-01]\n",
            " [3.40219617e-01]\n",
            " [9.99613464e-01]\n",
            " [2.93324172e-01]\n",
            " [9.97785091e-01]\n",
            " [2.84659952e-01]\n",
            " [7.95492768e-01]\n",
            " [8.43095124e-01]\n",
            " [5.47157884e-01]\n",
            " [4.84577566e-01]\n",
            " [9.87630188e-01]\n",
            " [4.72033769e-01]\n",
            " [9.99942005e-01]\n",
            " [9.68406737e-01]\n",
            " [9.66898024e-01]\n",
            " [3.33151549e-01]\n",
            " [2.46630348e-02]\n",
            " [7.80582070e-01]\n",
            " [7.97516584e-01]]\n"
          ]
        }
      ]
    },
    {
      "cell_type": "code",
      "source": [
        "len(predictions)"
      ],
      "metadata": {
        "colab": {
          "base_uri": "https://localhost:8080/"
        },
        "id": "vNdiWVUn741j",
        "outputId": "c5400772-1f5c-40c8-bf16-1ea4da2bdc68"
      },
      "execution_count": 22,
      "outputs": [
        {
          "output_type": "execute_result",
          "data": {
            "text/plain": [
              "840"
            ]
          },
          "metadata": {},
          "execution_count": 22
        }
      ]
    },
    {
      "cell_type": "code",
      "source": [
        "from sklearn.metrics import confusion_matrix, classification_report\n",
        "\n",
        "true_labels = test_data.classes\n",
        "predicted_labels = (predictions > 0.5).astype(int)\n",
        "\n",
        "\n",
        "cm = confusion_matrix(true_labels, predicted_labels)\n",
        "\n",
        "\n",
        "print(\"Confusion Matrix:\")\n",
        "print(cm)\n",
        "\n",
        "print(\"Classification Report:\")\n",
        "print(classification_report(true_labels, predicted_labels))"
      ],
      "metadata": {
        "colab": {
          "base_uri": "https://localhost:8080/"
        },
        "id": "KyTqF1hq79ck",
        "outputId": "d41db43c-a2e4-4a9d-fea2-86e704c7583e"
      },
      "execution_count": 23,
      "outputs": [
        {
          "output_type": "stream",
          "name": "stdout",
          "text": [
            "Confusion Matrix:\n",
            "[[205 215]\n",
            " [187 233]]\n",
            "Classification Report:\n",
            "              precision    recall  f1-score   support\n",
            "\n",
            "           0       0.52      0.49      0.50       420\n",
            "           1       0.52      0.55      0.54       420\n",
            "\n",
            "    accuracy                           0.52       840\n",
            "   macro avg       0.52      0.52      0.52       840\n",
            "weighted avg       0.52      0.52      0.52       840\n",
            "\n"
          ]
        }
      ]
    },
    {
      "cell_type": "markdown",
      "source": [
        "There is overfitting and hence applying Batchnormalisation\n"
      ],
      "metadata": {
        "id": "sviUhU9AKhlh"
      }
    },
    {
      "cell_type": "code",
      "source": [
        "model = Sequential()\n",
        "\n",
        "model.add(Conv2D(32,kernel_size=(3,3),padding='valid',activation='relu',input_shape=(256,256,3)))\n",
        "model.add(BatchNormalization())\n",
        "model.add(MaxPooling2D(pool_size=(2,2),strides=2,padding='valid'))\n",
        "\n",
        "model.add(Conv2D(64,kernel_size=(3,3),padding='valid',activation='relu'))\n",
        "model.add(BatchNormalization())\n",
        "model.add(MaxPooling2D(pool_size=(2,2),strides=2,padding='valid'))\n",
        "\n",
        "model.add(Conv2D(128,kernel_size=(3,3),padding='valid',activation='relu'))\n",
        "model.add(BatchNormalization())\n",
        "model.add(MaxPooling2D(pool_size=(2,2),strides=2,padding='valid'))\n",
        "\n",
        "model.add(Flatten())\n",
        "\n",
        "model.add(Dense(128,activation='relu'))\n",
        "model.add(Dense(64,activation='relu'))\n",
        "model.add(Dense(1,activation='sigmoid'))"
      ],
      "metadata": {
        "colab": {
          "base_uri": "https://localhost:8080/"
        },
        "id": "2etweMRv8WLM",
        "outputId": "c6f1032b-062d-4e13-c624-cc99563c38f1"
      },
      "execution_count": 24,
      "outputs": [
        {
          "output_type": "stream",
          "name": "stderr",
          "text": [
            "/usr/local/lib/python3.10/dist-packages/keras/src/layers/convolutional/base_conv.py:107: UserWarning: Do not pass an `input_shape`/`input_dim` argument to a layer. When using Sequential models, prefer using an `Input(shape)` object as the first layer in the model instead.\n",
            "  super().__init__(activity_regularizer=activity_regularizer, **kwargs)\n"
          ]
        }
      ]
    },
    {
      "cell_type": "code",
      "source": [
        "from keras.optimizers import Adam\n",
        "model.compile(optimizer=Adam(learning_rate=0.001),loss='binary_crossentropy',metrics=['accuracy'])"
      ],
      "metadata": {
        "id": "qWzeOkX3FD07"
      },
      "execution_count": 26,
      "outputs": []
    },
    {
      "cell_type": "code",
      "source": [
        "history = model.fit(train_data, epochs=20, validation_data=validation_data)"
      ],
      "metadata": {
        "colab": {
          "base_uri": "https://localhost:8080/"
        },
        "id": "18MnCjBsFFLD",
        "outputId": "5ffa859f-9413-4051-9b12-c581f55b1e7f"
      },
      "execution_count": 27,
      "outputs": [
        {
          "output_type": "stream",
          "name": "stdout",
          "text": [
            "Epoch 1/20\n"
          ]
        },
        {
          "output_type": "stream",
          "name": "stderr",
          "text": [
            "/usr/local/lib/python3.10/dist-packages/keras/src/trainers/data_adapters/py_dataset_adapter.py:122: UserWarning: Your `PyDataset` class should call `super().__init__(**kwargs)` in its constructor. `**kwargs` can include `workers`, `use_multiprocessing`, `max_queue_size`. Do not pass these arguments to `fit()`, as they will be ignored.\n",
            "  self._warn_if_super_not_called()\n"
          ]
        },
        {
          "output_type": "stream",
          "name": "stdout",
          "text": [
            "\u001b[1m5/5\u001b[0m \u001b[32m━━━━━━━━━━━━━━━━━━━━\u001b[0m\u001b[37m\u001b[0m \u001b[1m61s\u001b[0m 8s/step - accuracy: 0.5300 - loss: 11.7285 - val_accuracy: 0.4865 - val_loss: 1.4070\n",
            "Epoch 2/20\n",
            "\u001b[1m5/5\u001b[0m \u001b[32m━━━━━━━━━━━━━━━━━━━━\u001b[0m\u001b[37m\u001b[0m \u001b[1m70s\u001b[0m 8s/step - accuracy: 0.7897 - loss: 1.5226 - val_accuracy: 0.4865 - val_loss: 1.7321\n",
            "Epoch 3/20\n",
            "\u001b[1m5/5\u001b[0m \u001b[32m━━━━━━━━━━━━━━━━━━━━\u001b[0m\u001b[37m\u001b[0m \u001b[1m38s\u001b[0m 7s/step - accuracy: 0.8205 - loss: 1.1094 - val_accuracy: 0.4865 - val_loss: 2.0853\n",
            "Epoch 4/20\n",
            "\u001b[1m5/5\u001b[0m \u001b[32m━━━━━━━━━━━━━━━━━━━━\u001b[0m\u001b[37m\u001b[0m \u001b[1m41s\u001b[0m 7s/step - accuracy: 0.9208 - loss: 0.4748 - val_accuracy: 0.5135 - val_loss: 1.8807\n",
            "Epoch 5/20\n",
            "\u001b[1m5/5\u001b[0m \u001b[32m━━━━━━━━━━━━━━━━━━━━\u001b[0m\u001b[37m\u001b[0m \u001b[1m42s\u001b[0m 8s/step - accuracy: 0.9349 - loss: 0.4864 - val_accuracy: 0.5135 - val_loss: 6.7799\n",
            "Epoch 6/20\n",
            "\u001b[1m5/5\u001b[0m \u001b[32m━━━━━━━━━━━━━━━━━━━━\u001b[0m\u001b[37m\u001b[0m \u001b[1m39s\u001b[0m 7s/step - accuracy: 0.9534 - loss: 0.3390 - val_accuracy: 0.5135 - val_loss: 6.2149\n",
            "Epoch 7/20\n",
            "\u001b[1m5/5\u001b[0m \u001b[32m━━━━━━━━━━━━━━━━━━━━\u001b[0m\u001b[37m\u001b[0m \u001b[1m39s\u001b[0m 7s/step - accuracy: 0.9494 - loss: 0.3045 - val_accuracy: 0.5135 - val_loss: 8.9763\n",
            "Epoch 8/20\n",
            "\u001b[1m5/5\u001b[0m \u001b[32m━━━━━━━━━━━━━━━━━━━━\u001b[0m\u001b[37m\u001b[0m \u001b[1m39s\u001b[0m 7s/step - accuracy: 0.9899 - loss: 0.0435 - val_accuracy: 0.5135 - val_loss: 12.6426\n",
            "Epoch 9/20\n",
            "\u001b[1m5/5\u001b[0m \u001b[32m━━━━━━━━━━━━━━━━━━━━\u001b[0m\u001b[37m\u001b[0m \u001b[1m39s\u001b[0m 7s/step - accuracy: 0.9755 - loss: 0.1176 - val_accuracy: 0.5135 - val_loss: 15.5205\n",
            "Epoch 10/20\n",
            "\u001b[1m5/5\u001b[0m \u001b[32m━━━━━━━━━━━━━━━━━━━━\u001b[0m\u001b[37m\u001b[0m \u001b[1m39s\u001b[0m 8s/step - accuracy: 0.9748 - loss: 0.2635 - val_accuracy: 0.5135 - val_loss: 16.4713\n",
            "Epoch 11/20\n",
            "\u001b[1m5/5\u001b[0m \u001b[32m━━━━━━━━━━━━━━━━━━━━\u001b[0m\u001b[37m\u001b[0m \u001b[1m41s\u001b[0m 7s/step - accuracy: 0.9466 - loss: 0.3127 - val_accuracy: 0.5135 - val_loss: 16.9174\n",
            "Epoch 12/20\n",
            "\u001b[1m5/5\u001b[0m \u001b[32m━━━━━━━━━━━━━━━━━━━━\u001b[0m\u001b[37m\u001b[0m \u001b[1m42s\u001b[0m 8s/step - accuracy: 0.9679 - loss: 0.6401 - val_accuracy: 0.5135 - val_loss: 19.1995\n",
            "Epoch 13/20\n",
            "\u001b[1m5/5\u001b[0m \u001b[32m━━━━━━━━━━━━━━━━━━━━\u001b[0m\u001b[37m\u001b[0m \u001b[1m38s\u001b[0m 7s/step - accuracy: 0.9731 - loss: 0.1813 - val_accuracy: 0.5135 - val_loss: 22.5397\n",
            "Epoch 14/20\n",
            "\u001b[1m5/5\u001b[0m \u001b[32m━━━━━━━━━━━━━━━━━━━━\u001b[0m\u001b[37m\u001b[0m \u001b[1m41s\u001b[0m 7s/step - accuracy: 0.9825 - loss: 0.0339 - val_accuracy: 0.5135 - val_loss: 24.7678\n",
            "Epoch 15/20\n",
            "\u001b[1m5/5\u001b[0m \u001b[32m━━━━━━━━━━━━━━━━━━━━\u001b[0m\u001b[37m\u001b[0m \u001b[1m42s\u001b[0m 7s/step - accuracy: 0.9446 - loss: 0.3984 - val_accuracy: 0.5135 - val_loss: 25.4294\n",
            "Epoch 16/20\n",
            "\u001b[1m5/5\u001b[0m \u001b[32m━━━━━━━━━━━━━━━━━━━━\u001b[0m\u001b[37m\u001b[0m \u001b[1m38s\u001b[0m 8s/step - accuracy: 0.9909 - loss: 0.0292 - val_accuracy: 0.5135 - val_loss: 28.5085\n",
            "Epoch 17/20\n",
            "\u001b[1m5/5\u001b[0m \u001b[32m━━━━━━━━━━━━━━━━━━━━\u001b[0m\u001b[37m\u001b[0m \u001b[1m39s\u001b[0m 7s/step - accuracy: 0.9727 - loss: 0.1049 - val_accuracy: 0.5135 - val_loss: 34.1161\n",
            "Epoch 18/20\n",
            "\u001b[1m5/5\u001b[0m \u001b[32m━━━━━━━━━━━━━━━━━━━━\u001b[0m\u001b[37m\u001b[0m \u001b[1m39s\u001b[0m 7s/step - accuracy: 0.9804 - loss: 0.1212 - val_accuracy: 0.5135 - val_loss: 31.8242\n",
            "Epoch 19/20\n",
            "\u001b[1m5/5\u001b[0m \u001b[32m━━━━━━━━━━━━━━━━━━━━\u001b[0m\u001b[37m\u001b[0m \u001b[1m41s\u001b[0m 7s/step - accuracy: 0.9734 - loss: 0.7640 - val_accuracy: 0.5135 - val_loss: 22.4145\n",
            "Epoch 20/20\n",
            "\u001b[1m5/5\u001b[0m \u001b[32m━━━━━━━━━━━━━━━━━━━━\u001b[0m\u001b[37m\u001b[0m \u001b[1m46s\u001b[0m 9s/step - accuracy: 0.9942 - loss: 0.2391 - val_accuracy: 0.5405 - val_loss: 7.4539\n"
          ]
        }
      ]
    },
    {
      "cell_type": "code",
      "source": [
        "test_datagen = ImageDataGenerator(rescale=1./255)\n",
        "test_data = test_datagen.flow_from_directory(\n",
        "    test_dir,\n",
        "    target_size=(256,256),\n",
        "    batch_size=32,\n",
        "    class_mode='binary'\n",
        ")"
      ],
      "metadata": {
        "colab": {
          "base_uri": "https://localhost:8080/"
        },
        "id": "U-E0bxQ6FK9l",
        "outputId": "b7b36a43-abb0-4ffc-c76b-67e76899f8d1"
      },
      "execution_count": 28,
      "outputs": [
        {
          "output_type": "stream",
          "name": "stdout",
          "text": [
            "Found 840 images belonging to 2 classes.\n"
          ]
        }
      ]
    },
    {
      "cell_type": "code",
      "source": [
        "predictions = model.predict(test_data)"
      ],
      "metadata": {
        "colab": {
          "base_uri": "https://localhost:8080/"
        },
        "id": "JUkefgDjFPkT",
        "outputId": "a72e5c80-6357-42b6-a5a1-3e9ff9b5e495"
      },
      "execution_count": 29,
      "outputs": [
        {
          "output_type": "stream",
          "name": "stdout",
          "text": [
            "\u001b[1m27/27\u001b[0m \u001b[32m━━━━━━━━━━━━━━━━━━━━\u001b[0m\u001b[37m\u001b[0m \u001b[1m42s\u001b[0m 2s/step\n"
          ]
        }
      ]
    },
    {
      "cell_type": "code",
      "source": [
        "from sklearn.metrics import confusion_matrix, classification_report\n",
        "\n",
        "\n",
        "true_labels = test_data.classes\n",
        "predicted_labels = (predictions > 0.5).astype(int)\n",
        "\n",
        "\n",
        "cm = confusion_matrix(true_labels, predicted_labels)\n",
        "\n",
        "\n",
        "print(\"Confusion Matrix:\")\n",
        "print(cm)\n",
        "\n",
        "\n",
        "print(\"Classification Report after applying techniques to handle overfitting:\")\n",
        "print(classification_report(true_labels, predicted_labels))"
      ],
      "metadata": {
        "colab": {
          "base_uri": "https://localhost:8080/"
        },
        "id": "5fKb9m1ZFS65",
        "outputId": "0a9c265a-a7e4-4f2f-bf35-96118f297513"
      },
      "execution_count": 30,
      "outputs": [
        {
          "output_type": "stream",
          "name": "stdout",
          "text": [
            "Confusion Matrix:\n",
            "[[389  31]\n",
            " [379  41]]\n",
            "Classification Report after applying techniques to handle overfitting:\n",
            "              precision    recall  f1-score   support\n",
            "\n",
            "           0       0.51      0.93      0.65       420\n",
            "           1       0.57      0.10      0.17       420\n",
            "\n",
            "    accuracy                           0.51       840\n",
            "   macro avg       0.54      0.51      0.41       840\n",
            "weighted avg       0.54      0.51      0.41       840\n",
            "\n"
          ]
        }
      ]
    },
    {
      "cell_type": "markdown",
      "source": [
        "Using Pre-trained model - Resnet"
      ],
      "metadata": {
        "id": "wF6HjsFoKwxP"
      }
    },
    {
      "cell_type": "code",
      "source": [
        "import tensorflow as tf\n",
        "from tensorflow import keras\n",
        "from keras import Sequential\n",
        "from keras.layers import Dense,Conv2D,MaxPooling2D,Flatten\n",
        "\n",
        "resnet_model = Sequential()\n",
        "pretrained_model = tf.keras.applications.ResNet50(include_top = False,\n",
        "                                                input_shape = (256,256,3),\n",
        "                                                pooling = 'max', classes = 2,\n",
        "                                                weights = 'imagenet')\n",
        "for layer in pretrained_model.layers:\n",
        "    layer.trainable = False\n",
        "\n",
        "resnet_model.add(pretrained_model)\n",
        "resnet_model.add(Flatten())\n",
        "resnet_model.add(Dense(512, activation = 'relu'))\n",
        "resnet_model.add(Dense(1, activation = 'sigmoid'))"
      ],
      "metadata": {
        "colab": {
          "base_uri": "https://localhost:8080/"
        },
        "id": "MqfATQ_PFflM",
        "outputId": "75e06544-1d6a-4f1f-e6db-382e267f6894"
      },
      "execution_count": 31,
      "outputs": [
        {
          "output_type": "stream",
          "name": "stdout",
          "text": [
            "Downloading data from https://storage.googleapis.com/tensorflow/keras-applications/resnet/resnet50_weights_tf_dim_ordering_tf_kernels_notop.h5\n",
            "\u001b[1m94765736/94765736\u001b[0m \u001b[32m━━━━━━━━━━━━━━━━━━━━\u001b[0m\u001b[37m\u001b[0m \u001b[1m1s\u001b[0m 0us/step\n"
          ]
        }
      ]
    },
    {
      "cell_type": "code",
      "source": [
        "from keras.optimizers import Adam\n",
        "resnet_model.compile(optimizer=Adam(learning_rate=0.001),loss='binary_crossentropy',metrics=['accuracy'])"
      ],
      "metadata": {
        "id": "QbFMS1_5FnWh"
      },
      "execution_count": 32,
      "outputs": []
    },
    {
      "cell_type": "code",
      "source": [
        "history = resnet_model.fit(train_data, epochs=20, validation_data=validation_data)"
      ],
      "metadata": {
        "colab": {
          "base_uri": "https://localhost:8080/"
        },
        "id": "Q-6K3VqFFrZF",
        "outputId": "93a24255-a1ff-41c9-868a-5bf5b9a542a1"
      },
      "execution_count": 33,
      "outputs": [
        {
          "metadata": {
            "tags": null
          },
          "name": "stdout",
          "output_type": "stream",
          "text": [
            "Epoch 1/20\n",
            "\u001b[1m5/5\u001b[0m \u001b[32m━━━━━━━━━━━━━━━━━━━━\u001b[0m\u001b[37m\u001b[0m \u001b[1m55s\u001b[0m 9s/step - accuracy: 0.5302 - loss: 4.2276 - val_accuracy: 0.4865 - val_loss: 2.9414\n",
            "Epoch 2/20\n",
            "\u001b[1m5/5\u001b[0m \u001b[32m━━━━━━━━━━━━━━━━━━━━\u001b[0m\u001b[37m\u001b[0m \u001b[1m46s\u001b[0m 9s/step - accuracy: 0.5345 - loss: 2.0105 - val_accuracy: 0.5135 - val_loss: 1.3924\n",
            "Epoch 3/20\n",
            "\u001b[1m5/5\u001b[0m \u001b[32m━━━━━━━━━━━━━━━━━━━━\u001b[0m\u001b[37m\u001b[0m \u001b[1m46s\u001b[0m 9s/step - accuracy: 0.4583 - loss: 1.5630 - val_accuracy: 0.5135 - val_loss: 0.7382\n",
            "Epoch 4/20\n",
            "\u001b[1m5/5\u001b[0m \u001b[32m━━━━━━━━━━━━━━━━━━━━\u001b[0m\u001b[37m\u001b[0m \u001b[1m45s\u001b[0m 9s/step - accuracy: 0.4996 - loss: 1.0258 - val_accuracy: 0.4865 - val_loss: 1.0550\n",
            "Epoch 5/20\n",
            "\u001b[1m5/5\u001b[0m \u001b[32m━━━━━━━━━━━━━━━━━━━━\u001b[0m\u001b[37m\u001b[0m \u001b[1m46s\u001b[0m 9s/step - accuracy: 0.5359 - loss: 0.8977 - val_accuracy: 0.5135 - val_loss: 1.1286\n",
            "Epoch 6/20\n",
            "\u001b[1m5/5\u001b[0m \u001b[32m━━━━━━━━━━━━━━━━━━━━\u001b[0m\u001b[37m\u001b[0m \u001b[1m46s\u001b[0m 10s/step - accuracy: 0.6007 - loss: 0.8185 - val_accuracy: 0.5405 - val_loss: 0.7558\n",
            "Epoch 7/20\n",
            "\u001b[1m5/5\u001b[0m \u001b[32m━━━━━━━━━━━━━━━━━━━━\u001b[0m\u001b[37m\u001b[0m \u001b[1m46s\u001b[0m 10s/step - accuracy: 0.6334 - loss: 0.6428 - val_accuracy: 0.5405 - val_loss: 0.6763\n",
            "Epoch 8/20\n",
            "\u001b[1m5/5\u001b[0m \u001b[32m━━━━━━━━━━━━━━━━━━━━\u001b[0m\u001b[37m\u001b[0m \u001b[1m80s\u001b[0m 9s/step - accuracy: 0.5632 - loss: 0.7658 - val_accuracy: 0.5135 - val_loss: 0.8499\n",
            "Epoch 9/20\n",
            "\u001b[1m5/5\u001b[0m \u001b[32m━━━━━━━━━━━━━━━━━━━━\u001b[0m\u001b[37m\u001b[0m \u001b[1m82s\u001b[0m 9s/step - accuracy: 0.5419 - loss: 0.7133 - val_accuracy: 0.5946 - val_loss: 0.6400\n",
            "Epoch 10/20\n",
            "\u001b[1m5/5\u001b[0m \u001b[32m━━━━━━━━━━━━━━━━━━━━\u001b[0m\u001b[37m\u001b[0m \u001b[1m82s\u001b[0m 9s/step - accuracy: 0.6450 - loss: 0.5790 - val_accuracy: 0.6216 - val_loss: 0.6469\n",
            "Epoch 11/20\n",
            "\u001b[1m5/5\u001b[0m \u001b[32m━━━━━━━━━━━━━━━━━━━━\u001b[0m\u001b[37m\u001b[0m \u001b[1m45s\u001b[0m 9s/step - accuracy: 0.6674 - loss: 0.6098 - val_accuracy: 0.5946 - val_loss: 0.6183\n",
            "Epoch 12/20\n",
            "\u001b[1m5/5\u001b[0m \u001b[32m━━━━━━━━━━━━━━━━━━━━\u001b[0m\u001b[37m\u001b[0m \u001b[1m82s\u001b[0m 9s/step - accuracy: 0.7131 - loss: 0.5630 - val_accuracy: 0.6757 - val_loss: 0.5910\n",
            "Epoch 13/20\n",
            "\u001b[1m5/5\u001b[0m \u001b[32m━━━━━━━━━━━━━━━━━━━━\u001b[0m\u001b[37m\u001b[0m \u001b[1m46s\u001b[0m 9s/step - accuracy: 0.7032 - loss: 0.5407 - val_accuracy: 0.5946 - val_loss: 0.6685\n",
            "Epoch 14/20\n",
            "\u001b[1m5/5\u001b[0m \u001b[32m━━━━━━━━━━━━━━━━━━━━\u001b[0m\u001b[37m\u001b[0m \u001b[1m82s\u001b[0m 10s/step - accuracy: 0.5716 - loss: 0.6313 - val_accuracy: 0.5676 - val_loss: 0.6791\n",
            "Epoch 15/20\n",
            "\u001b[1m5/5\u001b[0m \u001b[32m━━━━━━━━━━━━━━━━━━━━\u001b[0m\u001b[37m\u001b[0m \u001b[1m83s\u001b[0m 9s/step - accuracy: 0.6506 - loss: 0.5553 - val_accuracy: 0.5946 - val_loss: 0.6891\n",
            "Epoch 16/20\n",
            "\u001b[1m5/5\u001b[0m \u001b[32m━━━━━━━━━━━━━━━━━━━━\u001b[0m\u001b[37m\u001b[0m \u001b[1m44s\u001b[0m 9s/step - accuracy: 0.6573 - loss: 0.5778 - val_accuracy: 0.7297 - val_loss: 0.5572\n",
            "Epoch 17/20\n",
            "\u001b[1m5/5\u001b[0m \u001b[32m━━━━━━━━━━━━━━━━━━━━\u001b[0m\u001b[37m\u001b[0m \u001b[1m46s\u001b[0m 9s/step - accuracy: 0.7156 - loss: 0.5230 - val_accuracy: 0.5676 - val_loss: 0.7300\n",
            "Epoch 18/20\n",
            "\u001b[1m5/5\u001b[0m \u001b[32m━━━━━━━━━━━━━━━━━━━━\u001b[0m\u001b[37m\u001b[0m \u001b[1m80s\u001b[0m 9s/step - accuracy: 0.6305 - loss: 0.5929 - val_accuracy: 0.6216 - val_loss: 0.5930\n",
            "Epoch 19/20\n",
            "\u001b[1m5/5\u001b[0m \u001b[32m━━━━━━━━━━━━━━━━━━━━\u001b[0m\u001b[37m\u001b[0m \u001b[1m45s\u001b[0m 9s/step - accuracy: 0.6581 - loss: 0.6140 - val_accuracy: 0.5135 - val_loss: 0.9786\n",
            "Epoch 20/20\n",
            "\u001b[1m5/5\u001b[0m \u001b[32m━━━━━━━━━━━━━━━━━━━━\u001b[0m\u001b[37m\u001b[0m \u001b[1m44s\u001b[0m 9s/step - accuracy: 0.5694 - loss: 0.8255 - val_accuracy: 0.6486 - val_loss: 0.5702\n"
          ]
        }
      ]
    },
    {
      "cell_type": "code",
      "source": [
        "predictions = resnet_model.predict(test_data)"
      ],
      "metadata": {
        "colab": {
          "base_uri": "https://localhost:8080/"
        },
        "id": "Snrqk1xZFuLM",
        "outputId": "b6fcdcda-ac5c-42fe-dc16-3d9e3cc352cc"
      },
      "execution_count": 36,
      "outputs": [
        {
          "output_type": "stream",
          "name": "stdout",
          "text": [
            "\u001b[1m27/27\u001b[0m \u001b[32m━━━━━━━━━━━━━━━━━━━━\u001b[0m\u001b[37m\u001b[0m \u001b[1m207s\u001b[0m 7s/step\n"
          ]
        }
      ]
    },
    {
      "cell_type": "code",
      "source": [
        "from sklearn.metrics import confusion_matrix, classification_report\n",
        "\n",
        "true_labels = test_data.classes\n",
        "predicted_labels = (predictions > 0.5).astype(int)\n",
        "\n",
        "cm = confusion_matrix(true_labels, predicted_labels)\n",
        "\n",
        "print(\"Confusion Matrix:\")\n",
        "print(cm)\n",
        "\n",
        "print(\"Classification Report after applying techniques to handle overfitting:\")\n",
        "print(classification_report(true_labels, predicted_labels))"
      ],
      "metadata": {
        "colab": {
          "base_uri": "https://localhost:8080/"
        },
        "id": "4xSLzCliFyp3",
        "outputId": "ec010235-0451-4bc3-e900-17fcc775f4cc"
      },
      "execution_count": 37,
      "outputs": [
        {
          "output_type": "stream",
          "name": "stdout",
          "text": [
            "Confusion Matrix:\n",
            "[[353  67]\n",
            " [345  75]]\n",
            "Classification Report after applying techniques to handle overfitting:\n",
            "              precision    recall  f1-score   support\n",
            "\n",
            "           0       0.51      0.84      0.63       420\n",
            "           1       0.53      0.18      0.27       420\n",
            "\n",
            "    accuracy                           0.51       840\n",
            "   macro avg       0.52      0.51      0.45       840\n",
            "weighted avg       0.52      0.51      0.45       840\n",
            "\n"
          ]
        }
      ]
    }
  ]
}